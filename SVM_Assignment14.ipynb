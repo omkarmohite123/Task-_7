{
  "nbformat": 4,
  "nbformat_minor": 0,
  "metadata": {
    "colab": {
      "provenance": [],
      "include_colab_link": true
    },
    "kernelspec": {
      "name": "python3",
      "display_name": "Python 3"
    },
    "language_info": {
      "name": "python"
    }
  },
  "cells": [
    {
      "cell_type": "markdown",
      "metadata": {
        "id": "view-in-github",
        "colab_type": "text"
      },
      "source": [
        "<a href=\"https://colab.research.google.com/github/omkarmohite123/Task-_7/blob/main/SVM_Assignment14.ipynb\" target=\"_parent\"><img src=\"https://colab.research.google.com/assets/colab-badge.svg\" alt=\"Open In Colab\"/></a>"
      ]
    },
    {
      "cell_type": "code",
      "metadata": {
        "id": "OTEpzVunhgga"
      },
      "source": [
        "#Social_Network_Ads.csv"
      ],
      "execution_count": null,
      "outputs": []
    },
    {
      "cell_type": "markdown",
      "metadata": {
        "id": "Qa5Bo_A9h3kB"
      },
      "source": [
        "**Import libraries**"
      ]
    },
    {
      "cell_type": "code",
      "metadata": {
        "id": "pFIDCPu9h1DO",
        "colab": {
          "base_uri": "https://localhost:8080/",
          "height": 74
        },
        "outputId": "75ccdc18-0017-4493-c766-c36005d808b9"
      },
      "source": [
        "#from google.colab import files\n",
        "#uploaded=files.upload()"
      ],
      "execution_count": null,
      "outputs": [
        {
          "output_type": "display_data",
          "data": {
            "text/plain": [
              "<IPython.core.display.HTML object>"
            ],
            "text/html": [
              "\n",
              "     <input type=\"file\" id=\"files-d282339f-413f-48dd-bf38-3591979f3802\" name=\"files[]\" multiple disabled\n",
              "        style=\"border:none\" />\n",
              "     <output id=\"result-d282339f-413f-48dd-bf38-3591979f3802\">\n",
              "      Upload widget is only available when the cell has been executed in the\n",
              "      current browser session. Please rerun this cell to enable.\n",
              "      </output>\n",
              "      <script>// Copyright 2017 Google LLC\n",
              "//\n",
              "// Licensed under the Apache License, Version 2.0 (the \"License\");\n",
              "// you may not use this file except in compliance with the License.\n",
              "// You may obtain a copy of the License at\n",
              "//\n",
              "//      http://www.apache.org/licenses/LICENSE-2.0\n",
              "//\n",
              "// Unless required by applicable law or agreed to in writing, software\n",
              "// distributed under the License is distributed on an \"AS IS\" BASIS,\n",
              "// WITHOUT WARRANTIES OR CONDITIONS OF ANY KIND, either express or implied.\n",
              "// See the License for the specific language governing permissions and\n",
              "// limitations under the License.\n",
              "\n",
              "/**\n",
              " * @fileoverview Helpers for google.colab Python module.\n",
              " */\n",
              "(function(scope) {\n",
              "function span(text, styleAttributes = {}) {\n",
              "  const element = document.createElement('span');\n",
              "  element.textContent = text;\n",
              "  for (const key of Object.keys(styleAttributes)) {\n",
              "    element.style[key] = styleAttributes[key];\n",
              "  }\n",
              "  return element;\n",
              "}\n",
              "\n",
              "// Max number of bytes which will be uploaded at a time.\n",
              "const MAX_PAYLOAD_SIZE = 100 * 1024;\n",
              "\n",
              "function _uploadFiles(inputId, outputId) {\n",
              "  const steps = uploadFilesStep(inputId, outputId);\n",
              "  const outputElement = document.getElementById(outputId);\n",
              "  // Cache steps on the outputElement to make it available for the next call\n",
              "  // to uploadFilesContinue from Python.\n",
              "  outputElement.steps = steps;\n",
              "\n",
              "  return _uploadFilesContinue(outputId);\n",
              "}\n",
              "\n",
              "// This is roughly an async generator (not supported in the browser yet),\n",
              "// where there are multiple asynchronous steps and the Python side is going\n",
              "// to poll for completion of each step.\n",
              "// This uses a Promise to block the python side on completion of each step,\n",
              "// then passes the result of the previous step as the input to the next step.\n",
              "function _uploadFilesContinue(outputId) {\n",
              "  const outputElement = document.getElementById(outputId);\n",
              "  const steps = outputElement.steps;\n",
              "\n",
              "  const next = steps.next(outputElement.lastPromiseValue);\n",
              "  return Promise.resolve(next.value.promise).then((value) => {\n",
              "    // Cache the last promise value to make it available to the next\n",
              "    // step of the generator.\n",
              "    outputElement.lastPromiseValue = value;\n",
              "    return next.value.response;\n",
              "  });\n",
              "}\n",
              "\n",
              "/**\n",
              " * Generator function which is called between each async step of the upload\n",
              " * process.\n",
              " * @param {string} inputId Element ID of the input file picker element.\n",
              " * @param {string} outputId Element ID of the output display.\n",
              " * @return {!Iterable<!Object>} Iterable of next steps.\n",
              " */\n",
              "function* uploadFilesStep(inputId, outputId) {\n",
              "  const inputElement = document.getElementById(inputId);\n",
              "  inputElement.disabled = false;\n",
              "\n",
              "  const outputElement = document.getElementById(outputId);\n",
              "  outputElement.innerHTML = '';\n",
              "\n",
              "  const pickedPromise = new Promise((resolve) => {\n",
              "    inputElement.addEventListener('change', (e) => {\n",
              "      resolve(e.target.files);\n",
              "    });\n",
              "  });\n",
              "\n",
              "  const cancel = document.createElement('button');\n",
              "  inputElement.parentElement.appendChild(cancel);\n",
              "  cancel.textContent = 'Cancel upload';\n",
              "  const cancelPromise = new Promise((resolve) => {\n",
              "    cancel.onclick = () => {\n",
              "      resolve(null);\n",
              "    };\n",
              "  });\n",
              "\n",
              "  // Wait for the user to pick the files.\n",
              "  const files = yield {\n",
              "    promise: Promise.race([pickedPromise, cancelPromise]),\n",
              "    response: {\n",
              "      action: 'starting',\n",
              "    }\n",
              "  };\n",
              "\n",
              "  cancel.remove();\n",
              "\n",
              "  // Disable the input element since further picks are not allowed.\n",
              "  inputElement.disabled = true;\n",
              "\n",
              "  if (!files) {\n",
              "    return {\n",
              "      response: {\n",
              "        action: 'complete',\n",
              "      }\n",
              "    };\n",
              "  }\n",
              "\n",
              "  for (const file of files) {\n",
              "    const li = document.createElement('li');\n",
              "    li.append(span(file.name, {fontWeight: 'bold'}));\n",
              "    li.append(span(\n",
              "        `(${file.type || 'n/a'}) - ${file.size} bytes, ` +\n",
              "        `last modified: ${\n",
              "            file.lastModifiedDate ? file.lastModifiedDate.toLocaleDateString() :\n",
              "                                    'n/a'} - `));\n",
              "    const percent = span('0% done');\n",
              "    li.appendChild(percent);\n",
              "\n",
              "    outputElement.appendChild(li);\n",
              "\n",
              "    const fileDataPromise = new Promise((resolve) => {\n",
              "      const reader = new FileReader();\n",
              "      reader.onload = (e) => {\n",
              "        resolve(e.target.result);\n",
              "      };\n",
              "      reader.readAsArrayBuffer(file);\n",
              "    });\n",
              "    // Wait for the data to be ready.\n",
              "    let fileData = yield {\n",
              "      promise: fileDataPromise,\n",
              "      response: {\n",
              "        action: 'continue',\n",
              "      }\n",
              "    };\n",
              "\n",
              "    // Use a chunked sending to avoid message size limits. See b/62115660.\n",
              "    let position = 0;\n",
              "    do {\n",
              "      const length = Math.min(fileData.byteLength - position, MAX_PAYLOAD_SIZE);\n",
              "      const chunk = new Uint8Array(fileData, position, length);\n",
              "      position += length;\n",
              "\n",
              "      const base64 = btoa(String.fromCharCode.apply(null, chunk));\n",
              "      yield {\n",
              "        response: {\n",
              "          action: 'append',\n",
              "          file: file.name,\n",
              "          data: base64,\n",
              "        },\n",
              "      };\n",
              "\n",
              "      let percentDone = fileData.byteLength === 0 ?\n",
              "          100 :\n",
              "          Math.round((position / fileData.byteLength) * 100);\n",
              "      percent.textContent = `${percentDone}% done`;\n",
              "\n",
              "    } while (position < fileData.byteLength);\n",
              "  }\n",
              "\n",
              "  // All done.\n",
              "  yield {\n",
              "    response: {\n",
              "      action: 'complete',\n",
              "    }\n",
              "  };\n",
              "}\n",
              "\n",
              "scope.google = scope.google || {};\n",
              "scope.google.colab = scope.google.colab || {};\n",
              "scope.google.colab._files = {\n",
              "  _uploadFiles,\n",
              "  _uploadFilesContinue,\n",
              "};\n",
              "})(self);\n",
              "</script> "
            ]
          },
          "metadata": {}
        },
        {
          "output_type": "stream",
          "name": "stdout",
          "text": [
            "Saving Social_Network_Ads.csv to Social_Network_Ads.csv\n"
          ]
        }
      ]
    },
    {
      "cell_type": "code",
      "source": [
        "import numpy as np # linear algebra\n",
        "import matplotlib.pyplot as plt # For plotting\n",
        "import pandas as pd #data processing"
      ],
      "metadata": {
        "id": "wjKj24-dzAw6"
      },
      "execution_count": null,
      "outputs": []
    },
    {
      "cell_type": "markdown",
      "metadata": {
        "id": "L9CQXJjkiKRq"
      },
      "source": [
        "**Importing the dataset**"
      ]
    },
    {
      "cell_type": "code",
      "metadata": {
        "id": "ZNiJnC7hh1HC"
      },
      "source": [
        "dataset = pd.read_csv('Social_Network_Ads.csv')"
      ],
      "execution_count": null,
      "outputs": []
    },
    {
      "cell_type": "code",
      "source": [
        "dataset.head()"
      ],
      "metadata": {
        "colab": {
          "base_uri": "https://localhost:8080/",
          "height": 206
        },
        "id": "1Ln8jRpXzpEH",
        "outputId": "389f5cb6-c69e-4af3-c1b5-bc7cdc57241f"
      },
      "execution_count": null,
      "outputs": [
        {
          "output_type": "execute_result",
          "data": {
            "text/plain": [
              "    User ID  Gender  Age  EstimatedSalary  Purchased\n",
              "0  15624510    Male   19            19000          0\n",
              "1  15810944    Male   35            20000          0\n",
              "2  15668575  Female   26            43000          0\n",
              "3  15603246  Female   27            57000          0\n",
              "4  15804002    Male   19            76000          0"
            ],
            "text/html": [
              "\n",
              "  <div id=\"df-f8ffb1ca-0899-4a0b-b0c2-8c0ef967de92\">\n",
              "    <div class=\"colab-df-container\">\n",
              "      <div>\n",
              "<style scoped>\n",
              "    .dataframe tbody tr th:only-of-type {\n",
              "        vertical-align: middle;\n",
              "    }\n",
              "\n",
              "    .dataframe tbody tr th {\n",
              "        vertical-align: top;\n",
              "    }\n",
              "\n",
              "    .dataframe thead th {\n",
              "        text-align: right;\n",
              "    }\n",
              "</style>\n",
              "<table border=\"1\" class=\"dataframe\">\n",
              "  <thead>\n",
              "    <tr style=\"text-align: right;\">\n",
              "      <th></th>\n",
              "      <th>User ID</th>\n",
              "      <th>Gender</th>\n",
              "      <th>Age</th>\n",
              "      <th>EstimatedSalary</th>\n",
              "      <th>Purchased</th>\n",
              "    </tr>\n",
              "  </thead>\n",
              "  <tbody>\n",
              "    <tr>\n",
              "      <th>0</th>\n",
              "      <td>15624510</td>\n",
              "      <td>Male</td>\n",
              "      <td>19</td>\n",
              "      <td>19000</td>\n",
              "      <td>0</td>\n",
              "    </tr>\n",
              "    <tr>\n",
              "      <th>1</th>\n",
              "      <td>15810944</td>\n",
              "      <td>Male</td>\n",
              "      <td>35</td>\n",
              "      <td>20000</td>\n",
              "      <td>0</td>\n",
              "    </tr>\n",
              "    <tr>\n",
              "      <th>2</th>\n",
              "      <td>15668575</td>\n",
              "      <td>Female</td>\n",
              "      <td>26</td>\n",
              "      <td>43000</td>\n",
              "      <td>0</td>\n",
              "    </tr>\n",
              "    <tr>\n",
              "      <th>3</th>\n",
              "      <td>15603246</td>\n",
              "      <td>Female</td>\n",
              "      <td>27</td>\n",
              "      <td>57000</td>\n",
              "      <td>0</td>\n",
              "    </tr>\n",
              "    <tr>\n",
              "      <th>4</th>\n",
              "      <td>15804002</td>\n",
              "      <td>Male</td>\n",
              "      <td>19</td>\n",
              "      <td>76000</td>\n",
              "      <td>0</td>\n",
              "    </tr>\n",
              "  </tbody>\n",
              "</table>\n",
              "</div>\n",
              "      <button class=\"colab-df-convert\" onclick=\"convertToInteractive('df-f8ffb1ca-0899-4a0b-b0c2-8c0ef967de92')\"\n",
              "              title=\"Convert this dataframe to an interactive table.\"\n",
              "              style=\"display:none;\">\n",
              "        \n",
              "  <svg xmlns=\"http://www.w3.org/2000/svg\" height=\"24px\"viewBox=\"0 0 24 24\"\n",
              "       width=\"24px\">\n",
              "    <path d=\"M0 0h24v24H0V0z\" fill=\"none\"/>\n",
              "    <path d=\"M18.56 5.44l.94 2.06.94-2.06 2.06-.94-2.06-.94-.94-2.06-.94 2.06-2.06.94zm-11 1L8.5 8.5l.94-2.06 2.06-.94-2.06-.94L8.5 2.5l-.94 2.06-2.06.94zm10 10l.94 2.06.94-2.06 2.06-.94-2.06-.94-.94-2.06-.94 2.06-2.06.94z\"/><path d=\"M17.41 7.96l-1.37-1.37c-.4-.4-.92-.59-1.43-.59-.52 0-1.04.2-1.43.59L10.3 9.45l-7.72 7.72c-.78.78-.78 2.05 0 2.83L4 21.41c.39.39.9.59 1.41.59.51 0 1.02-.2 1.41-.59l7.78-7.78 2.81-2.81c.8-.78.8-2.07 0-2.86zM5.41 20L4 18.59l7.72-7.72 1.47 1.35L5.41 20z\"/>\n",
              "  </svg>\n",
              "      </button>\n",
              "      \n",
              "  <style>\n",
              "    .colab-df-container {\n",
              "      display:flex;\n",
              "      flex-wrap:wrap;\n",
              "      gap: 12px;\n",
              "    }\n",
              "\n",
              "    .colab-df-convert {\n",
              "      background-color: #E8F0FE;\n",
              "      border: none;\n",
              "      border-radius: 50%;\n",
              "      cursor: pointer;\n",
              "      display: none;\n",
              "      fill: #1967D2;\n",
              "      height: 32px;\n",
              "      padding: 0 0 0 0;\n",
              "      width: 32px;\n",
              "    }\n",
              "\n",
              "    .colab-df-convert:hover {\n",
              "      background-color: #E2EBFA;\n",
              "      box-shadow: 0px 1px 2px rgba(60, 64, 67, 0.3), 0px 1px 3px 1px rgba(60, 64, 67, 0.15);\n",
              "      fill: #174EA6;\n",
              "    }\n",
              "\n",
              "    [theme=dark] .colab-df-convert {\n",
              "      background-color: #3B4455;\n",
              "      fill: #D2E3FC;\n",
              "    }\n",
              "\n",
              "    [theme=dark] .colab-df-convert:hover {\n",
              "      background-color: #434B5C;\n",
              "      box-shadow: 0px 1px 3px 1px rgba(0, 0, 0, 0.15);\n",
              "      filter: drop-shadow(0px 1px 2px rgba(0, 0, 0, 0.3));\n",
              "      fill: #FFFFFF;\n",
              "    }\n",
              "  </style>\n",
              "\n",
              "      <script>\n",
              "        const buttonEl =\n",
              "          document.querySelector('#df-f8ffb1ca-0899-4a0b-b0c2-8c0ef967de92 button.colab-df-convert');\n",
              "        buttonEl.style.display =\n",
              "          google.colab.kernel.accessAllowed ? 'block' : 'none';\n",
              "\n",
              "        async function convertToInteractive(key) {\n",
              "          const element = document.querySelector('#df-f8ffb1ca-0899-4a0b-b0c2-8c0ef967de92');\n",
              "          const dataTable =\n",
              "            await google.colab.kernel.invokeFunction('convertToInteractive',\n",
              "                                                     [key], {});\n",
              "          if (!dataTable) return;\n",
              "\n",
              "          const docLinkHtml = 'Like what you see? Visit the ' +\n",
              "            '<a target=\"_blank\" href=https://colab.research.google.com/notebooks/data_table.ipynb>data table notebook</a>'\n",
              "            + ' to learn more about interactive tables.';\n",
              "          element.innerHTML = '';\n",
              "          dataTable['output_type'] = 'display_data';\n",
              "          await google.colab.output.renderOutput(dataTable, element);\n",
              "          const docLink = document.createElement('div');\n",
              "          docLink.innerHTML = docLinkHtml;\n",
              "          element.appendChild(docLink);\n",
              "        }\n",
              "      </script>\n",
              "    </div>\n",
              "  </div>\n",
              "  "
            ]
          },
          "metadata": {},
          "execution_count": 8
        }
      ]
    },
    {
      "cell_type": "code",
      "source": [
        "dataset.describe()"
      ],
      "metadata": {
        "colab": {
          "base_uri": "https://localhost:8080/",
          "height": 300
        },
        "id": "bKQYV9qBzpHi",
        "outputId": "580f4861-f59c-4001-bbe1-3029c751e762"
      },
      "execution_count": null,
      "outputs": [
        {
          "output_type": "execute_result",
          "data": {
            "text/plain": [
              "            User ID         Age  EstimatedSalary   Purchased\n",
              "count  4.000000e+02  400.000000       400.000000  400.000000\n",
              "mean   1.569154e+07   37.655000     69742.500000    0.357500\n",
              "std    7.165832e+04   10.482877     34096.960282    0.479864\n",
              "min    1.556669e+07   18.000000     15000.000000    0.000000\n",
              "25%    1.562676e+07   29.750000     43000.000000    0.000000\n",
              "50%    1.569434e+07   37.000000     70000.000000    0.000000\n",
              "75%    1.575036e+07   46.000000     88000.000000    1.000000\n",
              "max    1.581524e+07   60.000000    150000.000000    1.000000"
            ],
            "text/html": [
              "\n",
              "  <div id=\"df-05bd2297-2ede-4f98-9d3d-fcf58951f9d2\">\n",
              "    <div class=\"colab-df-container\">\n",
              "      <div>\n",
              "<style scoped>\n",
              "    .dataframe tbody tr th:only-of-type {\n",
              "        vertical-align: middle;\n",
              "    }\n",
              "\n",
              "    .dataframe tbody tr th {\n",
              "        vertical-align: top;\n",
              "    }\n",
              "\n",
              "    .dataframe thead th {\n",
              "        text-align: right;\n",
              "    }\n",
              "</style>\n",
              "<table border=\"1\" class=\"dataframe\">\n",
              "  <thead>\n",
              "    <tr style=\"text-align: right;\">\n",
              "      <th></th>\n",
              "      <th>User ID</th>\n",
              "      <th>Age</th>\n",
              "      <th>EstimatedSalary</th>\n",
              "      <th>Purchased</th>\n",
              "    </tr>\n",
              "  </thead>\n",
              "  <tbody>\n",
              "    <tr>\n",
              "      <th>count</th>\n",
              "      <td>4.000000e+02</td>\n",
              "      <td>400.000000</td>\n",
              "      <td>400.000000</td>\n",
              "      <td>400.000000</td>\n",
              "    </tr>\n",
              "    <tr>\n",
              "      <th>mean</th>\n",
              "      <td>1.569154e+07</td>\n",
              "      <td>37.655000</td>\n",
              "      <td>69742.500000</td>\n",
              "      <td>0.357500</td>\n",
              "    </tr>\n",
              "    <tr>\n",
              "      <th>std</th>\n",
              "      <td>7.165832e+04</td>\n",
              "      <td>10.482877</td>\n",
              "      <td>34096.960282</td>\n",
              "      <td>0.479864</td>\n",
              "    </tr>\n",
              "    <tr>\n",
              "      <th>min</th>\n",
              "      <td>1.556669e+07</td>\n",
              "      <td>18.000000</td>\n",
              "      <td>15000.000000</td>\n",
              "      <td>0.000000</td>\n",
              "    </tr>\n",
              "    <tr>\n",
              "      <th>25%</th>\n",
              "      <td>1.562676e+07</td>\n",
              "      <td>29.750000</td>\n",
              "      <td>43000.000000</td>\n",
              "      <td>0.000000</td>\n",
              "    </tr>\n",
              "    <tr>\n",
              "      <th>50%</th>\n",
              "      <td>1.569434e+07</td>\n",
              "      <td>37.000000</td>\n",
              "      <td>70000.000000</td>\n",
              "      <td>0.000000</td>\n",
              "    </tr>\n",
              "    <tr>\n",
              "      <th>75%</th>\n",
              "      <td>1.575036e+07</td>\n",
              "      <td>46.000000</td>\n",
              "      <td>88000.000000</td>\n",
              "      <td>1.000000</td>\n",
              "    </tr>\n",
              "    <tr>\n",
              "      <th>max</th>\n",
              "      <td>1.581524e+07</td>\n",
              "      <td>60.000000</td>\n",
              "      <td>150000.000000</td>\n",
              "      <td>1.000000</td>\n",
              "    </tr>\n",
              "  </tbody>\n",
              "</table>\n",
              "</div>\n",
              "      <button class=\"colab-df-convert\" onclick=\"convertToInteractive('df-05bd2297-2ede-4f98-9d3d-fcf58951f9d2')\"\n",
              "              title=\"Convert this dataframe to an interactive table.\"\n",
              "              style=\"display:none;\">\n",
              "        \n",
              "  <svg xmlns=\"http://www.w3.org/2000/svg\" height=\"24px\"viewBox=\"0 0 24 24\"\n",
              "       width=\"24px\">\n",
              "    <path d=\"M0 0h24v24H0V0z\" fill=\"none\"/>\n",
              "    <path d=\"M18.56 5.44l.94 2.06.94-2.06 2.06-.94-2.06-.94-.94-2.06-.94 2.06-2.06.94zm-11 1L8.5 8.5l.94-2.06 2.06-.94-2.06-.94L8.5 2.5l-.94 2.06-2.06.94zm10 10l.94 2.06.94-2.06 2.06-.94-2.06-.94-.94-2.06-.94 2.06-2.06.94z\"/><path d=\"M17.41 7.96l-1.37-1.37c-.4-.4-.92-.59-1.43-.59-.52 0-1.04.2-1.43.59L10.3 9.45l-7.72 7.72c-.78.78-.78 2.05 0 2.83L4 21.41c.39.39.9.59 1.41.59.51 0 1.02-.2 1.41-.59l7.78-7.78 2.81-2.81c.8-.78.8-2.07 0-2.86zM5.41 20L4 18.59l7.72-7.72 1.47 1.35L5.41 20z\"/>\n",
              "  </svg>\n",
              "      </button>\n",
              "      \n",
              "  <style>\n",
              "    .colab-df-container {\n",
              "      display:flex;\n",
              "      flex-wrap:wrap;\n",
              "      gap: 12px;\n",
              "    }\n",
              "\n",
              "    .colab-df-convert {\n",
              "      background-color: #E8F0FE;\n",
              "      border: none;\n",
              "      border-radius: 50%;\n",
              "      cursor: pointer;\n",
              "      display: none;\n",
              "      fill: #1967D2;\n",
              "      height: 32px;\n",
              "      padding: 0 0 0 0;\n",
              "      width: 32px;\n",
              "    }\n",
              "\n",
              "    .colab-df-convert:hover {\n",
              "      background-color: #E2EBFA;\n",
              "      box-shadow: 0px 1px 2px rgba(60, 64, 67, 0.3), 0px 1px 3px 1px rgba(60, 64, 67, 0.15);\n",
              "      fill: #174EA6;\n",
              "    }\n",
              "\n",
              "    [theme=dark] .colab-df-convert {\n",
              "      background-color: #3B4455;\n",
              "      fill: #D2E3FC;\n",
              "    }\n",
              "\n",
              "    [theme=dark] .colab-df-convert:hover {\n",
              "      background-color: #434B5C;\n",
              "      box-shadow: 0px 1px 3px 1px rgba(0, 0, 0, 0.15);\n",
              "      filter: drop-shadow(0px 1px 2px rgba(0, 0, 0, 0.3));\n",
              "      fill: #FFFFFF;\n",
              "    }\n",
              "  </style>\n",
              "\n",
              "      <script>\n",
              "        const buttonEl =\n",
              "          document.querySelector('#df-05bd2297-2ede-4f98-9d3d-fcf58951f9d2 button.colab-df-convert');\n",
              "        buttonEl.style.display =\n",
              "          google.colab.kernel.accessAllowed ? 'block' : 'none';\n",
              "\n",
              "        async function convertToInteractive(key) {\n",
              "          const element = document.querySelector('#df-05bd2297-2ede-4f98-9d3d-fcf58951f9d2');\n",
              "          const dataTable =\n",
              "            await google.colab.kernel.invokeFunction('convertToInteractive',\n",
              "                                                     [key], {});\n",
              "          if (!dataTable) return;\n",
              "\n",
              "          const docLinkHtml = 'Like what you see? Visit the ' +\n",
              "            '<a target=\"_blank\" href=https://colab.research.google.com/notebooks/data_table.ipynb>data table notebook</a>'\n",
              "            + ' to learn more about interactive tables.';\n",
              "          element.innerHTML = '';\n",
              "          dataTable['output_type'] = 'display_data';\n",
              "          await google.colab.output.renderOutput(dataTable, element);\n",
              "          const docLink = document.createElement('div');\n",
              "          docLink.innerHTML = docLinkHtml;\n",
              "          element.appendChild(docLink);\n",
              "        }\n",
              "      </script>\n",
              "    </div>\n",
              "  </div>\n",
              "  "
            ]
          },
          "metadata": {},
          "execution_count": 9
        }
      ]
    },
    {
      "cell_type": "code",
      "source": [
        "dataset.isnull().sum()"
      ],
      "metadata": {
        "colab": {
          "base_uri": "https://localhost:8080/"
        },
        "id": "uJ3FcHzvzvyn",
        "outputId": "62553b5f-7c97-4651-c218-aed816148bea"
      },
      "execution_count": null,
      "outputs": [
        {
          "output_type": "execute_result",
          "data": {
            "text/plain": [
              "User ID            0\n",
              "Gender             0\n",
              "Age                0\n",
              "EstimatedSalary    0\n",
              "Purchased          0\n",
              "dtype: int64"
            ]
          },
          "metadata": {},
          "execution_count": 12
        }
      ]
    },
    {
      "cell_type": "code",
      "source": [
        "dataset.duplicated()"
      ],
      "metadata": {
        "colab": {
          "base_uri": "https://localhost:8080/"
        },
        "id": "SaqFn7eIz469",
        "outputId": "fc692024-3f1a-45b0-89fa-2ede5df581f0"
      },
      "execution_count": null,
      "outputs": [
        {
          "output_type": "execute_result",
          "data": {
            "text/plain": [
              "0      False\n",
              "1      False\n",
              "2      False\n",
              "3      False\n",
              "4      False\n",
              "       ...  \n",
              "395    False\n",
              "396    False\n",
              "397    False\n",
              "398    False\n",
              "399    False\n",
              "Length: 400, dtype: bool"
            ]
          },
          "metadata": {},
          "execution_count": 14
        }
      ]
    },
    {
      "cell_type": "code",
      "source": [
        "X = dataset.iloc[:, [2, 3]].values\n",
        "y = dataset.iloc[:, 4].values"
      ],
      "metadata": {
        "id": "tn5rGhNKzl_w"
      },
      "execution_count": null,
      "outputs": []
    },
    {
      "cell_type": "code",
      "source": [
        "X"
      ],
      "metadata": {
        "colab": {
          "base_uri": "https://localhost:8080/"
        },
        "id": "NArQFHPVzWse",
        "outputId": "17f3c193-f6f1-49c4-f243-879435bdd396"
      },
      "execution_count": null,
      "outputs": [
        {
          "output_type": "execute_result",
          "data": {
            "text/plain": [
              "array([[    19,  19000],\n",
              "       [    35,  20000],\n",
              "       [    26,  43000],\n",
              "       [    27,  57000],\n",
              "       [    19,  76000],\n",
              "       [    27,  58000],\n",
              "       [    27,  84000],\n",
              "       [    32, 150000],\n",
              "       [    25,  33000],\n",
              "       [    35,  65000],\n",
              "       [    26,  80000],\n",
              "       [    26,  52000],\n",
              "       [    20,  86000],\n",
              "       [    32,  18000],\n",
              "       [    18,  82000],\n",
              "       [    29,  80000],\n",
              "       [    47,  25000],\n",
              "       [    45,  26000],\n",
              "       [    46,  28000],\n",
              "       [    48,  29000],\n",
              "       [    45,  22000],\n",
              "       [    47,  49000],\n",
              "       [    48,  41000],\n",
              "       [    45,  22000],\n",
              "       [    46,  23000],\n",
              "       [    47,  20000],\n",
              "       [    49,  28000],\n",
              "       [    47,  30000],\n",
              "       [    29,  43000],\n",
              "       [    31,  18000],\n",
              "       [    31,  74000],\n",
              "       [    27, 137000],\n",
              "       [    21,  16000],\n",
              "       [    28,  44000],\n",
              "       [    27,  90000],\n",
              "       [    35,  27000],\n",
              "       [    33,  28000],\n",
              "       [    30,  49000],\n",
              "       [    26,  72000],\n",
              "       [    27,  31000],\n",
              "       [    27,  17000],\n",
              "       [    33,  51000],\n",
              "       [    35, 108000],\n",
              "       [    30,  15000],\n",
              "       [    28,  84000],\n",
              "       [    23,  20000],\n",
              "       [    25,  79000],\n",
              "       [    27,  54000],\n",
              "       [    30, 135000],\n",
              "       [    31,  89000],\n",
              "       [    24,  32000],\n",
              "       [    18,  44000],\n",
              "       [    29,  83000],\n",
              "       [    35,  23000],\n",
              "       [    27,  58000],\n",
              "       [    24,  55000],\n",
              "       [    23,  48000],\n",
              "       [    28,  79000],\n",
              "       [    22,  18000],\n",
              "       [    32, 117000],\n",
              "       [    27,  20000],\n",
              "       [    25,  87000],\n",
              "       [    23,  66000],\n",
              "       [    32, 120000],\n",
              "       [    59,  83000],\n",
              "       [    24,  58000],\n",
              "       [    24,  19000],\n",
              "       [    23,  82000],\n",
              "       [    22,  63000],\n",
              "       [    31,  68000],\n",
              "       [    25,  80000],\n",
              "       [    24,  27000],\n",
              "       [    20,  23000],\n",
              "       [    33, 113000],\n",
              "       [    32,  18000],\n",
              "       [    34, 112000],\n",
              "       [    18,  52000],\n",
              "       [    22,  27000],\n",
              "       [    28,  87000],\n",
              "       [    26,  17000],\n",
              "       [    30,  80000],\n",
              "       [    39,  42000],\n",
              "       [    20,  49000],\n",
              "       [    35,  88000],\n",
              "       [    30,  62000],\n",
              "       [    31, 118000],\n",
              "       [    24,  55000],\n",
              "       [    28,  85000],\n",
              "       [    26,  81000],\n",
              "       [    35,  50000],\n",
              "       [    22,  81000],\n",
              "       [    30, 116000],\n",
              "       [    26,  15000],\n",
              "       [    29,  28000],\n",
              "       [    29,  83000],\n",
              "       [    35,  44000],\n",
              "       [    35,  25000],\n",
              "       [    28, 123000],\n",
              "       [    35,  73000],\n",
              "       [    28,  37000],\n",
              "       [    27,  88000],\n",
              "       [    28,  59000],\n",
              "       [    32,  86000],\n",
              "       [    33, 149000],\n",
              "       [    19,  21000],\n",
              "       [    21,  72000],\n",
              "       [    26,  35000],\n",
              "       [    27,  89000],\n",
              "       [    26,  86000],\n",
              "       [    38,  80000],\n",
              "       [    39,  71000],\n",
              "       [    37,  71000],\n",
              "       [    38,  61000],\n",
              "       [    37,  55000],\n",
              "       [    42,  80000],\n",
              "       [    40,  57000],\n",
              "       [    35,  75000],\n",
              "       [    36,  52000],\n",
              "       [    40,  59000],\n",
              "       [    41,  59000],\n",
              "       [    36,  75000],\n",
              "       [    37,  72000],\n",
              "       [    40,  75000],\n",
              "       [    35,  53000],\n",
              "       [    41,  51000],\n",
              "       [    39,  61000],\n",
              "       [    42,  65000],\n",
              "       [    26,  32000],\n",
              "       [    30,  17000],\n",
              "       [    26,  84000],\n",
              "       [    31,  58000],\n",
              "       [    33,  31000],\n",
              "       [    30,  87000],\n",
              "       [    21,  68000],\n",
              "       [    28,  55000],\n",
              "       [    23,  63000],\n",
              "       [    20,  82000],\n",
              "       [    30, 107000],\n",
              "       [    28,  59000],\n",
              "       [    19,  25000],\n",
              "       [    19,  85000],\n",
              "       [    18,  68000],\n",
              "       [    35,  59000],\n",
              "       [    30,  89000],\n",
              "       [    34,  25000],\n",
              "       [    24,  89000],\n",
              "       [    27,  96000],\n",
              "       [    41,  30000],\n",
              "       [    29,  61000],\n",
              "       [    20,  74000],\n",
              "       [    26,  15000],\n",
              "       [    41,  45000],\n",
              "       [    31,  76000],\n",
              "       [    36,  50000],\n",
              "       [    40,  47000],\n",
              "       [    31,  15000],\n",
              "       [    46,  59000],\n",
              "       [    29,  75000],\n",
              "       [    26,  30000],\n",
              "       [    32, 135000],\n",
              "       [    32, 100000],\n",
              "       [    25,  90000],\n",
              "       [    37,  33000],\n",
              "       [    35,  38000],\n",
              "       [    33,  69000],\n",
              "       [    18,  86000],\n",
              "       [    22,  55000],\n",
              "       [    35,  71000],\n",
              "       [    29, 148000],\n",
              "       [    29,  47000],\n",
              "       [    21,  88000],\n",
              "       [    34, 115000],\n",
              "       [    26, 118000],\n",
              "       [    34,  43000],\n",
              "       [    34,  72000],\n",
              "       [    23,  28000],\n",
              "       [    35,  47000],\n",
              "       [    25,  22000],\n",
              "       [    24,  23000],\n",
              "       [    31,  34000],\n",
              "       [    26,  16000],\n",
              "       [    31,  71000],\n",
              "       [    32, 117000],\n",
              "       [    33,  43000],\n",
              "       [    33,  60000],\n",
              "       [    31,  66000],\n",
              "       [    20,  82000],\n",
              "       [    33,  41000],\n",
              "       [    35,  72000],\n",
              "       [    28,  32000],\n",
              "       [    24,  84000],\n",
              "       [    19,  26000],\n",
              "       [    29,  43000],\n",
              "       [    19,  70000],\n",
              "       [    28,  89000],\n",
              "       [    34,  43000],\n",
              "       [    30,  79000],\n",
              "       [    20,  36000],\n",
              "       [    26,  80000],\n",
              "       [    35,  22000],\n",
              "       [    35,  39000],\n",
              "       [    49,  74000],\n",
              "       [    39, 134000],\n",
              "       [    41,  71000],\n",
              "       [    58, 101000],\n",
              "       [    47,  47000],\n",
              "       [    55, 130000],\n",
              "       [    52, 114000],\n",
              "       [    40, 142000],\n",
              "       [    46,  22000],\n",
              "       [    48,  96000],\n",
              "       [    52, 150000],\n",
              "       [    59,  42000],\n",
              "       [    35,  58000],\n",
              "       [    47,  43000],\n",
              "       [    60, 108000],\n",
              "       [    49,  65000],\n",
              "       [    40,  78000],\n",
              "       [    46,  96000],\n",
              "       [    59, 143000],\n",
              "       [    41,  80000],\n",
              "       [    35,  91000],\n",
              "       [    37, 144000],\n",
              "       [    60, 102000],\n",
              "       [    35,  60000],\n",
              "       [    37,  53000],\n",
              "       [    36, 126000],\n",
              "       [    56, 133000],\n",
              "       [    40,  72000],\n",
              "       [    42,  80000],\n",
              "       [    35, 147000],\n",
              "       [    39,  42000],\n",
              "       [    40, 107000],\n",
              "       [    49,  86000],\n",
              "       [    38, 112000],\n",
              "       [    46,  79000],\n",
              "       [    40,  57000],\n",
              "       [    37,  80000],\n",
              "       [    46,  82000],\n",
              "       [    53, 143000],\n",
              "       [    42, 149000],\n",
              "       [    38,  59000],\n",
              "       [    50,  88000],\n",
              "       [    56, 104000],\n",
              "       [    41,  72000],\n",
              "       [    51, 146000],\n",
              "       [    35,  50000],\n",
              "       [    57, 122000],\n",
              "       [    41,  52000],\n",
              "       [    35,  97000],\n",
              "       [    44,  39000],\n",
              "       [    37,  52000],\n",
              "       [    48, 134000],\n",
              "       [    37, 146000],\n",
              "       [    50,  44000],\n",
              "       [    52,  90000],\n",
              "       [    41,  72000],\n",
              "       [    40,  57000],\n",
              "       [    58,  95000],\n",
              "       [    45, 131000],\n",
              "       [    35,  77000],\n",
              "       [    36, 144000],\n",
              "       [    55, 125000],\n",
              "       [    35,  72000],\n",
              "       [    48,  90000],\n",
              "       [    42, 108000],\n",
              "       [    40,  75000],\n",
              "       [    37,  74000],\n",
              "       [    47, 144000],\n",
              "       [    40,  61000],\n",
              "       [    43, 133000],\n",
              "       [    59,  76000],\n",
              "       [    60,  42000],\n",
              "       [    39, 106000],\n",
              "       [    57,  26000],\n",
              "       [    57,  74000],\n",
              "       [    38,  71000],\n",
              "       [    49,  88000],\n",
              "       [    52,  38000],\n",
              "       [    50,  36000],\n",
              "       [    59,  88000],\n",
              "       [    35,  61000],\n",
              "       [    37,  70000],\n",
              "       [    52,  21000],\n",
              "       [    48, 141000],\n",
              "       [    37,  93000],\n",
              "       [    37,  62000],\n",
              "       [    48, 138000],\n",
              "       [    41,  79000],\n",
              "       [    37,  78000],\n",
              "       [    39, 134000],\n",
              "       [    49,  89000],\n",
              "       [    55,  39000],\n",
              "       [    37,  77000],\n",
              "       [    35,  57000],\n",
              "       [    36,  63000],\n",
              "       [    42,  73000],\n",
              "       [    43, 112000],\n",
              "       [    45,  79000],\n",
              "       [    46, 117000],\n",
              "       [    58,  38000],\n",
              "       [    48,  74000],\n",
              "       [    37, 137000],\n",
              "       [    37,  79000],\n",
              "       [    40,  60000],\n",
              "       [    42,  54000],\n",
              "       [    51, 134000],\n",
              "       [    47, 113000],\n",
              "       [    36, 125000],\n",
              "       [    38,  50000],\n",
              "       [    42,  70000],\n",
              "       [    39,  96000],\n",
              "       [    38,  50000],\n",
              "       [    49, 141000],\n",
              "       [    39,  79000],\n",
              "       [    39,  75000],\n",
              "       [    54, 104000],\n",
              "       [    35,  55000],\n",
              "       [    45,  32000],\n",
              "       [    36,  60000],\n",
              "       [    52, 138000],\n",
              "       [    53,  82000],\n",
              "       [    41,  52000],\n",
              "       [    48,  30000],\n",
              "       [    48, 131000],\n",
              "       [    41,  60000],\n",
              "       [    41,  72000],\n",
              "       [    42,  75000],\n",
              "       [    36, 118000],\n",
              "       [    47, 107000],\n",
              "       [    38,  51000],\n",
              "       [    48, 119000],\n",
              "       [    42,  65000],\n",
              "       [    40,  65000],\n",
              "       [    57,  60000],\n",
              "       [    36,  54000],\n",
              "       [    58, 144000],\n",
              "       [    35,  79000],\n",
              "       [    38,  55000],\n",
              "       [    39, 122000],\n",
              "       [    53, 104000],\n",
              "       [    35,  75000],\n",
              "       [    38,  65000],\n",
              "       [    47,  51000],\n",
              "       [    47, 105000],\n",
              "       [    41,  63000],\n",
              "       [    53,  72000],\n",
              "       [    54, 108000],\n",
              "       [    39,  77000],\n",
              "       [    38,  61000],\n",
              "       [    38, 113000],\n",
              "       [    37,  75000],\n",
              "       [    42,  90000],\n",
              "       [    37,  57000],\n",
              "       [    36,  99000],\n",
              "       [    60,  34000],\n",
              "       [    54,  70000],\n",
              "       [    41,  72000],\n",
              "       [    40,  71000],\n",
              "       [    42,  54000],\n",
              "       [    43, 129000],\n",
              "       [    53,  34000],\n",
              "       [    47,  50000],\n",
              "       [    42,  79000],\n",
              "       [    42, 104000],\n",
              "       [    59,  29000],\n",
              "       [    58,  47000],\n",
              "       [    46,  88000],\n",
              "       [    38,  71000],\n",
              "       [    54,  26000],\n",
              "       [    60,  46000],\n",
              "       [    60,  83000],\n",
              "       [    39,  73000],\n",
              "       [    59, 130000],\n",
              "       [    37,  80000],\n",
              "       [    46,  32000],\n",
              "       [    46,  74000],\n",
              "       [    42,  53000],\n",
              "       [    41,  87000],\n",
              "       [    58,  23000],\n",
              "       [    42,  64000],\n",
              "       [    48,  33000],\n",
              "       [    44, 139000],\n",
              "       [    49,  28000],\n",
              "       [    57,  33000],\n",
              "       [    56,  60000],\n",
              "       [    49,  39000],\n",
              "       [    39,  71000],\n",
              "       [    47,  34000],\n",
              "       [    48,  35000],\n",
              "       [    48,  33000],\n",
              "       [    47,  23000],\n",
              "       [    45,  45000],\n",
              "       [    60,  42000],\n",
              "       [    39,  59000],\n",
              "       [    46,  41000],\n",
              "       [    51,  23000],\n",
              "       [    50,  20000],\n",
              "       [    36,  33000],\n",
              "       [    49,  36000]])"
            ]
          },
          "metadata": {},
          "execution_count": 6
        }
      ]
    },
    {
      "cell_type": "code",
      "source": [
        "y"
      ],
      "metadata": {
        "colab": {
          "base_uri": "https://localhost:8080/"
        },
        "id": "KLOKVU94zYRW",
        "outputId": "c985ae53-0842-4bf7-bc23-519fb4d2645e"
      },
      "execution_count": null,
      "outputs": [
        {
          "output_type": "execute_result",
          "data": {
            "text/plain": [
              "array([0, 0, 0, 0, 0, 0, 0, 1, 0, 0, 0, 0, 0, 0, 0, 0, 1, 1, 1, 1, 1, 1,\n",
              "       1, 1, 1, 1, 1, 1, 0, 0, 0, 1, 0, 0, 0, 0, 0, 0, 0, 0, 0, 0, 0, 0,\n",
              "       0, 0, 0, 0, 1, 0, 0, 0, 0, 0, 0, 0, 0, 0, 0, 0, 0, 0, 0, 1, 0, 0,\n",
              "       0, 0, 0, 0, 0, 0, 0, 0, 0, 1, 0, 0, 0, 0, 0, 0, 0, 0, 0, 1, 0, 0,\n",
              "       0, 0, 0, 0, 0, 0, 0, 0, 0, 1, 0, 0, 0, 0, 0, 1, 0, 0, 0, 0, 0, 0,\n",
              "       0, 0, 0, 0, 0, 0, 0, 0, 0, 0, 0, 0, 0, 0, 0, 0, 0, 0, 0, 0, 0, 0,\n",
              "       0, 0, 0, 0, 0, 1, 0, 0, 0, 0, 0, 0, 0, 0, 1, 0, 0, 0, 0, 0, 0, 0,\n",
              "       0, 0, 0, 0, 0, 1, 1, 0, 0, 0, 0, 0, 0, 0, 1, 0, 0, 0, 0, 0, 0, 0,\n",
              "       0, 0, 0, 0, 0, 0, 1, 0, 0, 0, 0, 0, 0, 0, 0, 0, 0, 0, 0, 0, 0, 0,\n",
              "       0, 0, 0, 0, 1, 0, 1, 0, 1, 0, 1, 0, 1, 1, 0, 0, 0, 1, 0, 0, 0, 1,\n",
              "       0, 1, 1, 1, 0, 0, 1, 1, 0, 1, 1, 0, 1, 1, 0, 1, 0, 0, 0, 1, 1, 0,\n",
              "       1, 1, 0, 1, 0, 1, 0, 1, 0, 0, 1, 1, 0, 1, 0, 0, 1, 1, 0, 1, 1, 0,\n",
              "       1, 1, 0, 0, 1, 0, 0, 1, 1, 1, 1, 1, 0, 1, 1, 1, 1, 0, 1, 1, 0, 1,\n",
              "       0, 1, 0, 1, 1, 1, 1, 0, 0, 0, 1, 1, 0, 1, 1, 1, 1, 1, 0, 0, 0, 1,\n",
              "       1, 0, 0, 1, 0, 1, 0, 1, 1, 0, 1, 0, 1, 1, 0, 1, 1, 0, 0, 0, 1, 1,\n",
              "       0, 1, 0, 0, 1, 0, 1, 0, 0, 1, 1, 0, 0, 1, 1, 0, 1, 1, 0, 0, 1, 0,\n",
              "       1, 0, 1, 1, 1, 0, 1, 0, 1, 1, 1, 0, 1, 1, 1, 1, 0, 1, 1, 1, 0, 1,\n",
              "       0, 1, 0, 0, 1, 1, 0, 1, 1, 1, 1, 1, 1, 0, 1, 1, 1, 1, 1, 1, 0, 1,\n",
              "       1, 1, 0, 1])"
            ]
          },
          "metadata": {},
          "execution_count": 7
        }
      ]
    },
    {
      "cell_type": "markdown",
      "metadata": {
        "id": "GpelPvR4iSxv"
      },
      "source": [
        "**Splitting the dataset into the Training set and Test set**"
      ]
    },
    {
      "cell_type": "code",
      "metadata": {
        "id": "eROg-IDUh1JZ"
      },
      "source": [
        "from sklearn.model_selection import train_test_split\n",
        "X_train, X_test, y_train, y_test = train_test_split(X, y, test_size = 0.2, random_state = 0)\n"
      ],
      "execution_count": null,
      "outputs": []
    },
    {
      "cell_type": "markdown",
      "metadata": {
        "id": "cwBqfX6WiZOx"
      },
      "source": [
        "**Feature Scaling**"
      ]
    },
    {
      "cell_type": "code",
      "metadata": {
        "id": "yCcfuhv_h1Lw"
      },
      "source": [
        "from sklearn.preprocessing import StandardScaler\n",
        "sc = StandardScaler()\n",
        "X_train = sc.fit_transform(X_train)\n",
        "X_test = sc.transform(X_test)"
      ],
      "execution_count": null,
      "outputs": []
    },
    {
      "cell_type": "code",
      "source": [
        "X_train"
      ],
      "metadata": {
        "colab": {
          "base_uri": "https://localhost:8080/"
        },
        "id": "Ugo2vbDo0RQt",
        "outputId": "a703de8b-97ef-43eb-a1f4-c445f7ef43f2"
      },
      "execution_count": null,
      "outputs": [
        {
          "output_type": "execute_result",
          "data": {
            "text/plain": [
              "array([[ 1.92295008e+00,  2.14601566e+00],\n",
              "       [ 2.02016082e+00,  3.78719297e-01],\n",
              "       [-1.38221530e+00, -4.32498705e-01],\n",
              "       [-1.18779381e+00, -1.01194013e+00],\n",
              "       [ 1.92295008e+00, -9.25023920e-01],\n",
              "       [ 3.67578135e-01,  2.91803083e-01],\n",
              "       [ 1.73156642e-01,  1.46942725e-01],\n",
              "       [ 2.02016082e+00,  1.74040666e+00],\n",
              "       [ 7.56421121e-01, -8.38107706e-01],\n",
              "       [ 2.70367388e-01, -2.87638347e-01],\n",
              "       [ 3.67578135e-01, -1.71750061e-01],\n",
              "       [-1.18475597e-01,  2.20395980e+00],\n",
              "       [-1.47942605e+00, -6.35303205e-01],\n",
              "       [-1.28500455e+00, -1.06988428e+00],\n",
              "       [-1.38221530e+00,  4.07691369e-01],\n",
              "       [-1.09058306e+00,  7.55356227e-01],\n",
              "       [-1.47942605e+00, -2.00722133e-01],\n",
              "       [ 9.50842613e-01, -1.06988428e+00],\n",
              "       [ 9.50842613e-01,  5.81523798e-01],\n",
              "       [ 3.67578135e-01,  9.87132798e-01],\n",
              "       [ 5.61999628e-01, -8.96051849e-01],\n",
              "       [-6.04529329e-01,  1.45068594e+00],\n",
              "       [-2.12648508e-02, -5.77359062e-01],\n",
              "       [-6.04529329e-01,  1.88526701e+00],\n",
              "       [ 1.33968560e+00, -1.41754914e+00],\n",
              "       [ 1.43689635e+00,  9.87132798e-01],\n",
              "       [ 7.59458956e-02, -8.09135634e-01],\n",
              "       [-2.12648508e-02, -2.58666276e-01],\n",
              "       [-2.15686344e-01, -5.77359062e-01],\n",
              "       [-2.15686344e-01, -2.00722133e-01],\n",
              "       [-3.12897090e-01, -1.30166085e+00],\n",
              "       [-3.12897090e-01, -5.77359062e-01],\n",
              "       [ 3.67578135e-01,  8.89985821e-02],\n",
              "       [ 8.53631867e-01, -6.06331134e-01],\n",
              "       [ 2.02016082e+00, -1.18577256e+00],\n",
              "       [ 1.04805336e+00, -1.42777990e-01],\n",
              "       [ 6.59210374e-01,  1.76937873e+00],\n",
              "       [-7.01740076e-01,  5.52551726e-01],\n",
              "       [ 7.56421121e-01,  3.49747226e-01],\n",
              "       [ 8.53631867e-01, -5.48386991e-01],\n",
              "       [-1.18779381e+00, -1.59138156e+00],\n",
              "       [ 2.11737157e+00,  9.29188655e-01],\n",
              "       [-2.12648508e-02,  1.21890937e+00],\n",
              "       [ 1.73156642e-01,  1.07404901e+00],\n",
              "       [ 3.67578135e-01, -4.90442848e-01],\n",
              "       [-3.12897090e-01, -3.16610419e-01],\n",
              "       [ 9.50842613e-01, -8.38107706e-01],\n",
              "       [ 9.50842613e-01,  1.85629494e+00],\n",
              "       [-2.12648508e-02,  1.24788144e+00],\n",
              "       [-8.96161568e-01,  2.26190394e+00],\n",
              "       [-1.18779381e+00, -1.59138156e+00],\n",
              "       [ 2.11737157e+00, -8.09135634e-01],\n",
              "       [-1.38221530e+00, -1.47549328e+00],\n",
              "       [ 3.67578135e-01,  2.29087602e+00],\n",
              "       [ 7.56421121e-01,  7.55356227e-01],\n",
              "       [-9.93372315e-01, -3.16610419e-01],\n",
              "       [ 7.59458956e-02,  7.55356227e-01],\n",
              "       [-9.93372315e-01,  5.52551726e-01],\n",
              "       [ 2.70367388e-01,  6.00265106e-02],\n",
              "       [ 6.59210374e-01, -1.27268878e+00],\n",
              "       [-5.07318583e-01, -2.68897039e-02],\n",
              "       [-1.77105829e+00,  3.49747226e-01],\n",
              "       [-7.01740076e-01,  1.17970654e-01],\n",
              "       [ 3.67578135e-01,  2.91803083e-01],\n",
              "       [-3.12897090e-01,  6.00265106e-02],\n",
              "       [-5.07318583e-01,  2.29087602e+00],\n",
              "       [ 1.73156642e-01,  3.10544391e-02],\n",
              "       [ 1.24247485e+00,  2.20395980e+00],\n",
              "       [ 7.56421121e-01,  2.62831011e-01],\n",
              "       [-3.12897090e-01,  1.46942725e-01],\n",
              "       [-2.12648508e-02, -5.48386991e-01],\n",
              "       [-2.15686344e-01,  1.46942725e-01],\n",
              "       [-1.18475597e-01,  2.33858940e-01],\n",
              "       [-2.12648508e-02, -2.58666276e-01],\n",
              "       [ 2.11737157e+00,  1.10302108e+00],\n",
              "       [-1.77105829e+00,  3.49747226e-01],\n",
              "       [ 1.82573933e+00,  1.17970654e-01],\n",
              "       [ 3.67578135e-01, -1.42777990e-01],\n",
              "       [-1.18779381e+00,  2.91803083e-01],\n",
              "       [ 7.56421121e-01,  1.36376973e+00],\n",
              "       [-3.12897090e-01, -2.58666276e-01],\n",
              "       [-1.67384754e+00, -5.58617754e-02],\n",
              "       [-9.93372315e-01, -7.51191491e-01],\n",
              "       [ 2.70367388e-01,  4.94607583e-01],\n",
              "       [-1.18475597e-01, -1.06988428e+00],\n",
              "       [-1.09058306e+00,  5.81523798e-01],\n",
              "       [ 7.59458956e-02, -8.09135634e-01],\n",
              "       [-9.93372315e-01,  1.53760216e+00],\n",
              "       [-7.01740076e-01,  1.39274180e+00],\n",
              "       [-1.28500455e+00,  4.94607583e-01],\n",
              "       [-3.12897090e-01,  3.10544391e-02],\n",
              "       [-1.18475597e-01,  2.08236764e-03],\n",
              "       [-3.12897090e-01, -8.96051849e-01],\n",
              "       [ 8.53631867e-01, -1.35960499e+00],\n",
              "       [-3.12897090e-01,  2.23293187e+00],\n",
              "       [ 9.50842613e-01,  1.97218323e+00],\n",
              "       [-1.18779381e+00,  4.65635512e-01],\n",
              "       [-1.28500455e+00,  2.62831011e-01],\n",
              "       [ 1.33968560e+00,  1.97218323e+00],\n",
              "       [ 1.24247485e+00, -1.35960499e+00],\n",
              "       [-3.12897090e-01, -2.87638347e-01],\n",
              "       [-5.07318583e-01,  1.24788144e+00],\n",
              "       [-7.98950822e-01,  1.07404901e+00],\n",
              "       [ 9.50842613e-01, -1.06988428e+00],\n",
              "       [ 2.70367388e-01,  2.91803083e-01],\n",
              "       [ 9.50842613e-01,  7.55356227e-01],\n",
              "       [-7.01740076e-01, -1.50446535e+00],\n",
              "       [-7.01740076e-01,  3.10544391e-02],\n",
              "       [ 4.64788881e-01,  1.71143459e+00],\n",
              "       [ 2.02016082e+00,  1.75914797e-01],\n",
              "       [-1.96547978e+00, -7.51191491e-01],\n",
              "       [-2.15686344e-01,  1.39274180e+00],\n",
              "       [ 3.67578135e-01,  5.81523798e-01],\n",
              "       [ 8.53631867e-01, -1.15680049e+00],\n",
              "       [-1.18779381e+00, -7.80163563e-01],\n",
              "       [ 1.73156642e-01,  2.33858940e-01],\n",
              "       [ 7.56421121e-01, -3.16610419e-01],\n",
              "       [ 2.02016082e+00, -8.09135634e-01],\n",
              "       [ 7.56421121e-01,  1.17970654e-01],\n",
              "       [-3.12897090e-01,  6.10495869e-01],\n",
              "       [-9.93372315e-01, -3.16610419e-01],\n",
              "       [ 1.73156642e-01, -3.74554562e-01],\n",
              "       [ 2.02016082e+00,  2.11704359e+00],\n",
              "       [ 1.82573933e+00, -1.27268878e+00],\n",
              "       [ 1.33968560e+00, -9.25023920e-01],\n",
              "       [ 8.53631867e-01,  1.24788144e+00],\n",
              "       [ 1.43689635e+00,  2.11704359e+00],\n",
              "       [-3.12897090e-01, -1.24371671e+00],\n",
              "       [ 1.92295008e+00,  9.00216584e-01],\n",
              "       [ 6.59210374e-01, -7.22219420e-01],\n",
              "       [-1.47942605e+00,  3.49747226e-01],\n",
              "       [ 7.56421121e-01, -1.35960499e+00],\n",
              "       [ 3.67578135e-01, -1.42777990e-01],\n",
              "       [-9.93372315e-01,  4.07691369e-01],\n",
              "       [-2.12648508e-02, -3.16610419e-01],\n",
              "       [-1.18779381e+00,  4.07691369e-01],\n",
              "       [-8.96161568e-01, -1.21474464e+00],\n",
              "       [-1.18475597e-01,  3.10544391e-02],\n",
              "       [-1.57663679e+00, -4.32498705e-01],\n",
              "       [ 9.50842613e-01, -1.01194013e+00],\n",
              "       [ 1.04805336e+00, -1.21474464e+00],\n",
              "       [-2.12648508e-02, -1.42777990e-01],\n",
              "       [-1.09058306e+00, -1.53343742e+00],\n",
              "       [ 7.56421121e-01, -1.21474464e+00],\n",
              "       [ 9.50842613e-01,  2.05909944e+00],\n",
              "       [-1.18779381e+00, -1.53343742e+00],\n",
              "       [-3.12897090e-01,  7.84328298e-01],\n",
              "       [ 7.59458956e-02, -3.16610419e-01],\n",
              "       [-1.38221530e+00, -1.24371671e+00],\n",
              "       [-6.04529329e-01, -1.50446535e+00],\n",
              "       [ 7.56421121e-01,  5.23579655e-01],\n",
              "       [-3.12897090e-01, -3.45582490e-01],\n",
              "       [ 1.72852858e+00, -2.87638347e-01],\n",
              "       [ 8.53631867e-01, -1.04091221e+00],\n",
              "       [ 1.73156642e-01,  6.00265106e-02],\n",
              "       [-6.04529329e-01,  8.71244512e-01],\n",
              "       [-1.86826903e+00, -1.41754914e+00],\n",
              "       [-1.28500455e+00,  5.81523798e-01],\n",
              "       [-3.12897090e-01,  5.23579655e-01],\n",
              "       [-9.93372315e-01, -1.09885635e+00],\n",
              "       [ 1.14526411e+00, -1.44652121e+00],\n",
              "       [ 1.73156642e-01, -3.16610419e-01],\n",
              "       [ 1.14526411e+00, -7.51191491e-01],\n",
              "       [-3.12897090e-01,  6.00265106e-02],\n",
              "       [ 1.73156642e-01,  2.08807152e+00],\n",
              "       [ 7.56421121e-01, -1.09885635e+00],\n",
              "       [ 7.59458956e-02,  3.10544391e-02],\n",
              "       [-1.77105829e+00,  1.17970654e-01],\n",
              "       [-8.96161568e-01,  1.46942725e-01],\n",
              "       [-7.01740076e-01,  1.75914797e-01],\n",
              "       [ 8.53631867e-01, -1.30166085e+00],\n",
              "       [ 1.73156642e-01, -2.58666276e-01],\n",
              "       [-4.10107836e-01,  1.21890937e+00],\n",
              "       [-2.12648508e-02,  2.91803083e-01],\n",
              "       [ 3.67578135e-01,  1.46942725e-01],\n",
              "       [ 8.53631867e-01, -6.64275277e-01],\n",
              "       [ 7.59458956e-02,  1.46942725e-01],\n",
              "       [-1.86826903e+00, -1.30166085e+00],\n",
              "       [-1.18475597e-01,  2.91803083e-01],\n",
              "       [-2.15686344e-01, -2.87638347e-01],\n",
              "       [ 2.70367388e-01, -5.19414919e-01],\n",
              "       [-2.15686344e-01,  1.59554630e+00],\n",
              "       [ 9.50842613e-01, -1.18577256e+00],\n",
              "       [-2.15686344e-01,  1.62451837e+00],\n",
              "       [ 1.24247485e+00,  1.85629494e+00],\n",
              "       [-1.09058306e+00, -3.74554562e-01],\n",
              "       [-2.12648508e-02,  3.10544391e-02],\n",
              "       [ 7.59458956e-02, -2.58666276e-01],\n",
              "       [-1.57663679e+00, -1.24371671e+00],\n",
              "       [-5.07318583e-01, -2.87638347e-01],\n",
              "       [ 9.50842613e-01,  1.17970654e-01],\n",
              "       [ 1.92295008e+00, -1.35960499e+00],\n",
              "       [ 1.43689635e+00,  6.00265106e-02],\n",
              "       [-6.04529329e-01,  1.36376973e+00],\n",
              "       [ 1.53410709e+00,  2.08236764e-03],\n",
              "       [-7.98950822e-01,  2.91803083e-01],\n",
              "       [ 1.92295008e+00,  7.26384155e-01],\n",
              "       [-1.18779381e+00, -5.19414919e-01],\n",
              "       [ 6.59210374e-01,  2.62831011e-01],\n",
              "       [-1.38221530e+00, -4.32498705e-01],\n",
              "       [ 1.73156642e-01,  1.46942725e-01],\n",
              "       [-5.07318583e-01, -1.21474464e+00],\n",
              "       [ 5.61999628e-01,  2.00115530e+00],\n",
              "       [-1.57663679e+00, -1.50446535e+00],\n",
              "       [-5.07318583e-01, -5.48386991e-01],\n",
              "       [ 4.64788881e-01,  1.82732287e+00],\n",
              "       [-1.38221530e+00, -1.09885635e+00],\n",
              "       [ 7.56421121e-01, -1.38857706e+00],\n",
              "       [-3.12897090e-01, -4.32498705e-01],\n",
              "       [ 1.53410709e+00,  9.87132798e-01],\n",
              "       [ 9.50842613e-01,  1.42171387e+00],\n",
              "       [-3.12897090e-01, -4.90442848e-01],\n",
              "       [-1.18475597e-01,  2.14601566e+00],\n",
              "       [-1.47942605e+00, -1.13805918e-01],\n",
              "       [-1.18475597e-01,  1.94321116e+00],\n",
              "       [-7.01740076e-01, -3.45582490e-01],\n",
              "       [-5.07318583e-01, -8.38107706e-01],\n",
              "       [ 6.59210374e-01, -1.38857706e+00],\n",
              "       [-7.98950822e-01, -1.59138156e+00],\n",
              "       [-1.86826903e+00, -1.47549328e+00],\n",
              "       [ 1.04805336e+00,  1.17970654e-01],\n",
              "       [ 7.59458956e-02,  1.50863009e+00],\n",
              "       [-3.12897090e-01,  8.89985821e-02],\n",
              "       [ 7.59458956e-02,  3.10544391e-02],\n",
              "       [-1.38221530e+00, -1.35960499e+00],\n",
              "       [ 2.70367388e-01,  6.00265106e-02],\n",
              "       [-8.96161568e-01,  3.78719297e-01],\n",
              "       [ 1.53410709e+00, -1.27268878e+00],\n",
              "       [-3.12897090e-01, -7.51191491e-01],\n",
              "       [-1.18475597e-01,  1.46942725e-01],\n",
              "       [-8.96161568e-01, -6.64275277e-01],\n",
              "       [-7.01740076e-01, -5.58617754e-02],\n",
              "       [ 3.67578135e-01, -4.61470776e-01],\n",
              "       [-7.98950822e-01,  1.88526701e+00],\n",
              "       [ 1.33968560e+00,  1.27685351e+00],\n",
              "       [ 1.14526411e+00, -9.82968063e-01],\n",
              "       [ 1.72852858e+00,  1.82732287e+00],\n",
              "       [-8.96161568e-01, -2.58666276e-01],\n",
              "       [-7.98950822e-01,  5.52551726e-01],\n",
              "       [-1.18779381e+00, -1.56240949e+00],\n",
              "       [-5.07318583e-01, -1.12782842e+00],\n",
              "       [ 2.70367388e-01,  6.00265106e-02],\n",
              "       [-2.15686344e-01, -1.06988428e+00],\n",
              "       [ 1.63131784e+00,  1.59554630e+00],\n",
              "       [ 9.50842613e-01,  1.76937873e+00],\n",
              "       [ 2.70367388e-01,  3.10544391e-02],\n",
              "       [-7.98950822e-01, -2.29694204e-01],\n",
              "       [-1.18475597e-01,  6.00265106e-02],\n",
              "       [ 2.70367388e-01, -2.00722133e-01],\n",
              "       [ 1.92295008e+00, -6.64275277e-01],\n",
              "       [-7.98950822e-01,  1.33479766e+00],\n",
              "       [-1.77105829e+00, -6.06331134e-01],\n",
              "       [-1.18475597e-01,  1.17970654e-01],\n",
              "       [ 2.70367388e-01, -3.16610419e-01],\n",
              "       [ 1.04805336e+00,  5.52551726e-01],\n",
              "       [-9.93372315e-01,  2.62831011e-01],\n",
              "       [ 1.43689635e+00,  3.49747226e-01],\n",
              "       [ 1.73156642e-01, -3.74554562e-01],\n",
              "       [ 2.11737157e+00, -1.04091221e+00],\n",
              "       [-3.12897090e-01,  1.10302108e+00],\n",
              "       [-1.67384754e+00,  6.00265106e-02],\n",
              "       [-2.12648508e-02,  3.10544391e-02],\n",
              "       [ 7.59458956e-02,  1.04507694e+00],\n",
              "       [-1.18475597e-01, -3.74554562e-01],\n",
              "       [-1.18779381e+00,  6.00265106e-02],\n",
              "       [-3.12897090e-01, -1.35960499e+00],\n",
              "       [ 1.53410709e+00,  1.10302108e+00],\n",
              "       [-7.98950822e-01, -1.53343742e+00],\n",
              "       [ 7.59458956e-02,  1.85629494e+00],\n",
              "       [-8.96161568e-01, -7.80163563e-01],\n",
              "       [-5.07318583e-01, -7.80163563e-01],\n",
              "       [-3.12897090e-01, -9.25023920e-01],\n",
              "       [ 2.70367388e-01, -7.22219420e-01],\n",
              "       [ 2.70367388e-01,  6.00265106e-02],\n",
              "       [ 7.59458956e-02,  1.85629494e+00],\n",
              "       [-1.09058306e+00,  1.94321116e+00],\n",
              "       [-1.67384754e+00, -1.56240949e+00],\n",
              "       [-1.18779381e+00, -1.09885635e+00],\n",
              "       [-7.01740076e-01, -1.13805918e-01],\n",
              "       [ 7.59458956e-02,  8.89985821e-02],\n",
              "       [ 2.70367388e-01,  2.62831011e-01],\n",
              "       [ 8.53631867e-01, -5.77359062e-01],\n",
              "       [ 2.70367388e-01, -1.15680049e+00],\n",
              "       [-1.18475597e-01,  6.68440012e-01],\n",
              "       [ 2.11737157e+00, -6.93247348e-01],\n",
              "       [-1.28500455e+00, -1.38857706e+00],\n",
              "       [-9.93372315e-01, -9.53995992e-01],\n",
              "       [-2.12648508e-02, -4.32498705e-01],\n",
              "       [-2.15686344e-01, -4.61470776e-01],\n",
              "       [-1.77105829e+00, -9.82968063e-01],\n",
              "       [ 1.72852858e+00,  9.87132798e-01],\n",
              "       [ 1.73156642e-01, -3.74554562e-01],\n",
              "       [ 3.67578135e-01,  1.10302108e+00],\n",
              "       [-1.77105829e+00, -1.35960499e+00],\n",
              "       [ 1.73156642e-01, -1.42777990e-01],\n",
              "       [ 8.53631867e-01, -1.44652121e+00],\n",
              "       [-1.96547978e+00,  4.65635512e-01],\n",
              "       [-3.12897090e-01,  2.62831011e-01],\n",
              "       [ 1.82573933e+00, -1.06988428e+00],\n",
              "       [-4.10107836e-01,  6.00265106e-02],\n",
              "       [ 1.04805336e+00, -8.96051849e-01],\n",
              "       [-1.09058306e+00, -1.12782842e+00],\n",
              "       [-1.86826903e+00,  2.08236764e-03],\n",
              "       [ 7.59458956e-02,  2.62831011e-01],\n",
              "       [-1.18779381e+00,  3.20775154e-01],\n",
              "       [-1.28500455e+00,  2.91803083e-01],\n",
              "       [-9.93372315e-01,  4.36663440e-01],\n",
              "       [ 1.63131784e+00, -8.96051849e-01],\n",
              "       [ 1.14526411e+00,  5.23579655e-01],\n",
              "       [ 1.04805336e+00,  5.23579655e-01],\n",
              "       [ 1.33968560e+00,  2.31984809e+00],\n",
              "       [-3.12897090e-01, -1.42777990e-01],\n",
              "       [ 3.67578135e-01, -4.61470776e-01],\n",
              "       [-4.10107836e-01, -7.80163563e-01],\n",
              "       [-1.18475597e-01, -5.19414919e-01],\n",
              "       [ 9.50842613e-01, -1.15680049e+00],\n",
              "       [-8.96161568e-01, -7.80163563e-01],\n",
              "       [-2.15686344e-01, -5.19414919e-01],\n",
              "       [-1.09058306e+00, -4.61470776e-01],\n",
              "       [-1.18779381e+00,  1.39274180e+00]])"
            ]
          },
          "metadata": {},
          "execution_count": 19
        }
      ]
    },
    {
      "cell_type": "code",
      "source": [
        "X_test"
      ],
      "metadata": {
        "colab": {
          "base_uri": "https://localhost:8080/"
        },
        "id": "Xg8A2dL70RZJ",
        "outputId": "f40d1d09-bfb0-4748-e332-d4b564a62ff3"
      },
      "execution_count": null,
      "outputs": [
        {
          "output_type": "execute_result",
          "data": {
            "text/plain": [
              "array([[-7.98950822e-01,  4.94607583e-01],\n",
              "       [-2.12648508e-02, -5.77359062e-01],\n",
              "       [-3.12897090e-01,  1.46942725e-01],\n",
              "       [-7.98950822e-01,  2.62831011e-01],\n",
              "       [-3.12897090e-01, -5.77359062e-01],\n",
              "       [-1.09058306e+00, -1.44652121e+00],\n",
              "       [-7.01740076e-01, -1.59138156e+00],\n",
              "       [-2.15686344e-01,  2.14601566e+00],\n",
              "       [-1.96547978e+00, -5.58617754e-02],\n",
              "       [ 8.53631867e-01, -7.80163563e-01],\n",
              "       [-7.98950822e-01, -6.06331134e-01],\n",
              "       [-9.93372315e-01, -4.32498705e-01],\n",
              "       [-1.18475597e-01, -4.32498705e-01],\n",
              "       [ 7.59458956e-02,  2.04886868e-01],\n",
              "       [-1.77105829e+00,  4.65635512e-01],\n",
              "       [-6.04529329e-01,  1.36376973e+00],\n",
              "       [-1.18475597e-01,  2.04886868e-01],\n",
              "       [-1.86826903e+00,  4.36663440e-01],\n",
              "       [ 1.63131784e+00,  1.74040666e+00],\n",
              "       [-3.12897090e-01, -1.38857706e+00],\n",
              "       [-3.12897090e-01, -6.64275277e-01],\n",
              "       [ 8.53631867e-01,  2.14601566e+00],\n",
              "       [ 2.70367388e-01, -5.48386991e-01],\n",
              "       [ 8.53631867e-01,  1.01610487e+00],\n",
              "       [-1.47942605e+00, -1.21474464e+00],\n",
              "       [ 1.04805336e+00,  2.05909944e+00],\n",
              "       [-9.93372315e-01,  4.94607583e-01],\n",
              "       [-8.96161568e-01,  2.91803083e-01],\n",
              "       [-1.18475597e-01, -2.29694204e-01],\n",
              "       [-6.04529329e-01,  4.65635512e-01],\n",
              "       [-1.67384754e+00,  5.23579655e-01],\n",
              "       [-1.18475597e-01,  2.62831011e-01],\n",
              "       [ 1.82573933e+00, -2.87638347e-01],\n",
              "       [-1.18475597e-01, -4.90442848e-01],\n",
              "       [-1.38221530e+00, -3.45582490e-01],\n",
              "       [-1.96547978e+00, -5.19414919e-01],\n",
              "       [-1.57663679e+00,  3.20775154e-01],\n",
              "       [-4.10107836e-01, -7.80163563e-01],\n",
              "       [-7.01740076e-01, -1.04091221e+00],\n",
              "       [ 1.04805336e+00, -9.82968063e-01],\n",
              "       [-1.09058306e+00,  5.23579655e-01],\n",
              "       [ 2.70367388e-01, -5.19414919e-01],\n",
              "       [-1.09058306e+00,  4.07691369e-01],\n",
              "       [-3.12897090e-01, -1.44652121e+00],\n",
              "       [ 4.64788881e-01,  1.21890937e+00],\n",
              "       [-1.09058306e+00, -3.45582490e-01],\n",
              "       [-1.18475597e-01,  2.91803083e-01],\n",
              "       [ 1.33968560e+00,  5.81523798e-01],\n",
              "       [-1.18779381e+00, -1.15680049e+00],\n",
              "       [ 1.04805336e+00,  4.65635512e-01],\n",
              "       [ 1.82573933e+00,  1.50863009e+00],\n",
              "       [-4.10107836e-01, -1.30166085e+00],\n",
              "       [-3.12897090e-01, -3.74554562e-01],\n",
              "       [-4.10107836e-01,  1.30582558e+00],\n",
              "       [ 2.02016082e+00,  5.23579655e-01],\n",
              "       [ 6.59210374e-01, -1.09885635e+00],\n",
              "       [-8.96161568e-01,  3.78719297e-01],\n",
              "       [-1.18779381e+00,  2.91803083e-01],\n",
              "       [ 1.04805336e+00, -1.21474464e+00],\n",
              "       [-1.47942605e+00, -1.44652121e+00],\n",
              "       [-6.04529329e-01, -1.50446535e+00],\n",
              "       [ 2.11737157e+00, -8.09135634e-01],\n",
              "       [-1.86826903e+00,  1.75914797e-01],\n",
              "       [-2.15686344e-01,  8.42272441e-01],\n",
              "       [-1.86826903e+00, -1.27268878e+00],\n",
              "       [ 2.11737157e+00,  3.78719297e-01],\n",
              "       [-1.38221530e+00,  5.52551726e-01],\n",
              "       [-1.09058306e+00, -3.45582490e-01],\n",
              "       [ 1.73156642e-01, -6.64275277e-01],\n",
              "       [ 3.67578135e-01,  2.08236764e-03],\n",
              "       [-6.04529329e-01,  2.31984809e+00],\n",
              "       [-3.12897090e-01,  2.04886868e-01],\n",
              "       [-1.57663679e+00, -2.00722133e-01],\n",
              "       [ 6.59210374e-01, -1.38857706e+00],\n",
              "       [-1.09058306e+00,  5.52551726e-01],\n",
              "       [-1.96547978e+00,  3.49747226e-01],\n",
              "       [ 3.67578135e-01,  2.62831011e-01],\n",
              "       [ 1.73156642e-01, -2.87638347e-01],\n",
              "       [ 1.43689635e+00, -1.04091221e+00],\n",
              "       [ 8.53631867e-01,  1.07404901e+00]])"
            ]
          },
          "metadata": {},
          "execution_count": 20
        }
      ]
    },
    {
      "cell_type": "markdown",
      "metadata": {
        "id": "OUGszSAKinhN"
      },
      "source": [
        "**Fitting SVM to the Training set**"
      ]
    },
    {
      "cell_type": "code",
      "metadata": {
        "id": "FLIzMPkOh1Ob",
        "colab": {
          "base_uri": "https://localhost:8080/"
        },
        "outputId": "fa3de20f-fd28-4087-c826-aa6442c878ce"
      },
      "source": [
        "from sklearn.svm import SVC\n",
        "classifier = SVC(kernel='linear',random_state=0)\n",
        "classifier.fit(X_train, y_train)"
      ],
      "execution_count": null,
      "outputs": [
        {
          "output_type": "execute_result",
          "data": {
            "text/plain": [
              "SVC(kernel='linear', random_state=0)"
            ]
          },
          "metadata": {},
          "execution_count": 21
        }
      ]
    },
    {
      "cell_type": "code",
      "source": [
        "from sklearn.svm import SVC\n",
        "classifier = SVC(kernel='rbf',random_state=0)\n",
        "classifier.fit(X_train, y_train)"
      ],
      "metadata": {
        "id": "HlX-664t07yk",
        "outputId": "a6a6cdc2-0bb6-46f7-9d66-6b04b6c053b7",
        "colab": {
          "base_uri": "https://localhost:8080/"
        }
      },
      "execution_count": null,
      "outputs": [
        {
          "output_type": "execute_result",
          "data": {
            "text/plain": [
              "SVC(random_state=0)"
            ]
          },
          "metadata": {},
          "execution_count": 28
        }
      ]
    },
    {
      "cell_type": "markdown",
      "metadata": {
        "id": "aW3yFyofiqtE"
      },
      "source": [
        "**Predicting the Test set results**"
      ]
    },
    {
      "cell_type": "code",
      "metadata": {
        "id": "aG_OGjavh1Q4",
        "colab": {
          "base_uri": "https://localhost:8080/"
        },
        "outputId": "dbe8df5a-4ca6-45a0-adc2-de22abe151e9"
      },
      "source": [
        "y_pred = classifier.predict(X_test)\n",
        "y_pred"
      ],
      "execution_count": null,
      "outputs": [
        {
          "output_type": "execute_result",
          "data": {
            "text/plain": [
              "array([0, 0, 0, 0, 0, 0, 0, 1, 0, 0, 0, 0, 0, 0, 0, 0, 0, 0, 1, 0, 0, 1,\n",
              "       0, 1, 0, 1, 0, 0, 0, 0, 0, 0, 1, 0, 0, 0, 0, 0, 0, 0, 0, 0, 0, 0,\n",
              "       1, 0, 0, 1, 0, 1, 1, 0, 0, 0, 1, 0, 0, 0, 0, 0, 0, 1, 0, 0, 0, 1,\n",
              "       0, 0, 0, 0, 1, 0, 0, 0, 0, 0, 1, 0, 1, 1])"
            ]
          },
          "metadata": {},
          "execution_count": 23
        }
      ]
    },
    {
      "cell_type": "code",
      "source": [
        "y_pred1 = classifier.predict(X_test)\n",
        "y_pred1"
      ],
      "metadata": {
        "colab": {
          "base_uri": "https://localhost:8080/"
        },
        "id": "ItGaukk31L1c",
        "outputId": "3cbc8eca-94a5-483f-c523-0b225a2e70ec"
      },
      "execution_count": null,
      "outputs": [
        {
          "output_type": "execute_result",
          "data": {
            "text/plain": [
              "array([0, 0, 0, 0, 0, 0, 0, 1, 0, 1, 0, 0, 0, 0, 0, 1, 0, 0, 1, 0, 0, 1,\n",
              "       0, 1, 0, 1, 0, 0, 0, 0, 0, 0, 1, 0, 0, 0, 0, 0, 0, 1, 0, 0, 0, 0,\n",
              "       1, 0, 0, 1, 0, 1, 1, 0, 0, 1, 1, 1, 0, 0, 1, 0, 0, 1, 0, 1, 0, 1,\n",
              "       0, 0, 0, 0, 1, 0, 0, 1, 0, 0, 0, 0, 1, 1])"
            ]
          },
          "metadata": {},
          "execution_count": 30
        }
      ]
    },
    {
      "cell_type": "markdown",
      "metadata": {
        "id": "4Kfn-chPi4Ts"
      },
      "source": [
        "**Making the Confusion Matrix**"
      ]
    },
    {
      "cell_type": "markdown",
      "source": [
        "*Fitting SVM to the Training set using Kernel as linear*"
      ],
      "metadata": {
        "id": "NnnM0l_-2s2a"
      }
    },
    {
      "cell_type": "code",
      "metadata": {
        "id": "G7VPRN2Ah1Tm",
        "colab": {
          "base_uri": "https://localhost:8080/"
        },
        "outputId": "291180f6-2620-4ca6-a7f3-9d703d91b4b7"
      },
      "source": [
        "from sklearn.metrics import confusion_matrix\n",
        "cm = confusion_matrix(y_test, y_pred)\n",
        "# Display the Confusion matrix\n",
        "cm"
      ],
      "execution_count": null,
      "outputs": [
        {
          "output_type": "execute_result",
          "data": {
            "text/plain": [
              "array([[57,  1],\n",
              "       [ 6, 16]])"
            ]
          },
          "metadata": {},
          "execution_count": 24
        }
      ]
    },
    {
      "cell_type": "markdown",
      "source": [
        "*Fitting SVM to the Training set using Kernel as rbf*"
      ],
      "metadata": {
        "id": "D8hrXeC_2ork"
      }
    },
    {
      "cell_type": "code",
      "metadata": {
        "id": "da0qhcjeh1a0",
        "colab": {
          "base_uri": "https://localhost:8080/"
        },
        "outputId": "ecbe2de0-5cc6-4bf7-9df2-a5e54da48d93"
      },
      "source": [
        "from sklearn.metrics import confusion_matrix\n",
        "cm1 = confusion_matrix(y_test, y_pred1)\n",
        "# Display the Confusion matrix\n",
        "cm1"
      ],
      "execution_count": null,
      "outputs": [
        {
          "output_type": "execute_result",
          "data": {
            "text/plain": [
              "array([[55,  3],\n",
              "       [ 1, 21]])"
            ]
          },
          "metadata": {},
          "execution_count": 32
        }
      ]
    },
    {
      "cell_type": "markdown",
      "metadata": {
        "id": "7Fo3I-pKi7JQ"
      },
      "source": [
        "**Visualising the Training set results**"
      ]
    },
    {
      "cell_type": "markdown",
      "source": [
        "*Visualising the Training set results using linear*\n"
      ],
      "metadata": {
        "id": "0CQMbH1J275Z"
      }
    },
    {
      "cell_type": "code",
      "metadata": {
        "id": "hI3xXh_oh1XK",
        "colab": {
          "base_uri": "https://localhost:8080/",
          "height": 352
        },
        "outputId": "4752785c-2009-413d-e3d9-77bdc03a3aea"
      },
      "source": [
        "from matplotlib.colors import ListedColormap\n",
        "X_set, y_set = X_train, y_train\n",
        "X1, X2 = np.meshgrid(np.arange(start = X_set[:, 0].min() - 1, stop = X_set[:, 0].max() + 1, step = 0.01),\n",
        "                     np.arange(start = X_set[:, 1].min() - 1, stop = X_set[:, 1].max() + 1, step = 0.01))\n",
        "plt.contourf(X1, X2, classifier.predict(np.array([X1.ravel(), X2.ravel()]).T).reshape(X1.shape),\n",
        "             alpha = 0.75, cmap = ListedColormap(('red', 'green')))\n",
        "plt.xlim(X1.min(), X1.max())\n",
        "plt.ylim(X2.min(), X2.max())\n",
        "for i, j in enumerate(np.unique(y_set)):\n",
        "    plt.scatter(X_set[y_set == j, 0], X_set[y_set == j, 1],\n",
        "                c = ListedColormap(('red', 'green'))(i), label = j)\n",
        "plt.title('SVM (Training set)')\n",
        "plt.xlabel('Age')\n",
        "plt.ylabel('Estimated Salary')\n",
        "plt.legend()\n",
        "plt.show()"
      ],
      "execution_count": null,
      "outputs": [
        {
          "output_type": "stream",
          "name": "stderr",
          "text": [
            "WARNING:matplotlib.axes._axes:*c* argument looks like a single numeric RGB or RGBA sequence, which should be avoided as value-mapping will have precedence in case its length matches with *x* & *y*.  Please use the *color* keyword-argument or provide a 2-D array with a single row if you intend to specify the same RGB or RGBA value for all points.\n",
            "WARNING:matplotlib.axes._axes:*c* argument looks like a single numeric RGB or RGBA sequence, which should be avoided as value-mapping will have precedence in case its length matches with *x* & *y*.  Please use the *color* keyword-argument or provide a 2-D array with a single row if you intend to specify the same RGB or RGBA value for all points.\n"
          ]
        },
        {
          "output_type": "display_data",
          "data": {
            "text/plain": [
              "<Figure size 432x288 with 1 Axes>"
            ],
            "image/png": "[encoded data removed]"
          },
          "metadata": {
            "needs_background": "light"
          }
        }
      ]
    },
    {
      "cell_type": "markdown",
      "source": [
        "*Visualising the Training set results using rbf*\n"
      ],
      "metadata": {
        "id": "Gtr3u_wy3RW-"
      }
    },
    {
      "cell_type": "code",
      "source": [
        "from matplotlib.colors import ListedColormap\n",
        "X_set, y_set = X_train, y_train\n",
        "X1, X2 = np.meshgrid(np.arange(start = X_set[:, 0].min() - 1, stop = X_set[:, 0].max() + 1, step = 0.01),\n",
        "                     np.arange(start = X_set[:, 1].min() - 1, stop = X_set[:, 1].max() + 1, step = 0.01))\n",
        "plt.contourf(X1, X2, classifier.predict(np.array([X1.ravel(), X2.ravel()]).T).reshape(X1.shape),\n",
        "             alpha = 0.75, cmap = ListedColormap(('red', 'green')))\n",
        "plt.xlim(X1.min(), X1.max())\n",
        "plt.ylim(X2.min(), X2.max())\n",
        "for i, j in enumerate(np.unique(y_set)):\n",
        "    plt.scatter(X_set[y_set == j, 0], X_set[y_set == j, 1],\n",
        "                c = ListedColormap(('red', 'green'))(i), label = j)\n",
        "plt.title('SVM (Training set)')\n",
        "plt.xlabel('Age')\n",
        "plt.ylabel('Estimated Salary')\n",
        "plt.legend()\n",
        "plt.show()"
      ],
      "metadata": {
        "colab": {
          "base_uri": "https://localhost:8080/",
          "height": 352
        },
        "id": "T3YdEqGB1lfl",
        "outputId": "03011f5e-2c99-4032-c04b-55d7798ada78"
      },
      "execution_count": null,
      "outputs": [
        {
          "output_type": "stream",
          "name": "stderr",
          "text": [
            "WARNING:matplotlib.axes._axes:*c* argument looks like a single numeric RGB or RGBA sequence, which should be avoided as value-mapping will have precedence in case its length matches with *x* & *y*.  Please use the *color* keyword-argument or provide a 2-D array with a single row if you intend to specify the same RGB or RGBA value for all points.\n",
            "WARNING:matplotlib.axes._axes:*c* argument looks like a single numeric RGB or RGBA sequence, which should be avoided as value-mapping will have precedence in case its length matches with *x* & *y*.  Please use the *color* keyword-argument or provide a 2-D array with a single row if you intend to specify the same RGB or RGBA value for all points.\n"
          ]
        },
        {
          "output_type": "display_data",
          "data": {
            "text/plain": [
              "<Figure size 432x288 with 1 Axes>"
            ],
            "image/png": "[encoded data removed]"
          },
          "metadata": {
            "needs_background": "light"
          }
        }
      ]
    },
    {
      "cell_type": "markdown",
      "metadata": {
        "id": "FudAc9-6jSS9"
      },
      "source": [
        "**Visualising the Test set results**"
      ]
    },
    {
      "cell_type": "markdown",
      "source": [
        "*Visualising the Test set results using linear*\n"
      ],
      "metadata": {
        "id": "EiUMK84y3GRw"
      }
    },
    {
      "cell_type": "code",
      "metadata": {
        "id": "Q3aQCPffjHqj",
        "colab": {
          "base_uri": "https://localhost:8080/",
          "height": 352
        },
        "outputId": "86b83f85-d4af-47de-9035-2a3a60f14820"
      },
      "source": [
        "from matplotlib.colors import ListedColormap\n",
        "X_set, y_set = X_test, y_test\n",
        "X1, X2 = np.meshgrid(np.arange(start = X_set[:, 0].min() - 1, stop = X_set[:, 0].max() + 1, step = 0.01),\n",
        "                     np.arange(start = X_set[:, 1].min() - 1, stop = X_set[:, 1].max() + 1, step = 0.01))\n",
        "plt.contourf(X1, X2, classifier.predict(np.array([X1.ravel(), X2.ravel()]).T).reshape(X1.shape),\n",
        "             alpha = 0.75, cmap = ListedColormap(('red', 'green')))\n",
        "plt.xlim(X1.min(), X1.max())\n",
        "plt.ylim(X2.min(), X2.max())\n",
        "for i, j in enumerate(np.unique(y_set)):\n",
        "    plt.scatter(X_set[y_set == j, 0], X_set[y_set == j, 1],\n",
        "                c = ListedColormap(('red', 'green'))(i), label = j)\n",
        "plt.title('SVM (Test set)')\n",
        "plt.xlabel('Age')\n",
        "plt.ylabel('Estimated Salary')\n",
        "plt.legend()\n",
        "plt.show()"
      ],
      "execution_count": null,
      "outputs": [
        {
          "output_type": "stream",
          "name": "stderr",
          "text": [
            "WARNING:matplotlib.axes._axes:*c* argument looks like a single numeric RGB or RGBA sequence, which should be avoided as value-mapping will have precedence in case its length matches with *x* & *y*.  Please use the *color* keyword-argument or provide a 2-D array with a single row if you intend to specify the same RGB or RGBA value for all points.\n",
            "WARNING:matplotlib.axes._axes:*c* argument looks like a single numeric RGB or RGBA sequence, which should be avoided as value-mapping will have precedence in case its length matches with *x* & *y*.  Please use the *color* keyword-argument or provide a 2-D array with a single row if you intend to specify the same RGB or RGBA value for all points.\n"
          ]
        },
        {
          "output_type": "display_data",
          "data": {
            "text/plain": [
              "<Figure size 432x288 with 1 Axes>"
            ],
            "image/png": "[encoded data removed]"
          },
          "metadata": {
            "needs_background": "light"
          }
        }
      ]
    },
    {
      "cell_type": "markdown",
      "source": [
        "*Visualising the Test set results using rbf*\n"
      ],
      "metadata": {
        "id": "UOjyEQtT3MuQ"
      }
    },
    {
      "cell_type": "code",
      "source": [
        "from matplotlib.colors import ListedColormap\n",
        "X_set, y_set = X_test, y_test\n",
        "X1, X2 = np.meshgrid(np.arange(start = X_set[:, 0].min() - 1, stop = X_set[:, 0].max() + 1, step = 0.01),\n",
        "                     np.arange(start = X_set[:, 1].min() - 1, stop = X_set[:, 1].max() + 1, step = 0.01))\n",
        "plt.contourf(X1, X2, classifier.predict(np.array([X1.ravel(), X2.ravel()]).T).reshape(X1.shape),\n",
        "             alpha = 0.75, cmap = ListedColormap(('red', 'green')))\n",
        "plt.xlim(X1.min(), X1.max())\n",
        "plt.ylim(X2.min(), X2.max())\n",
        "for i, j in enumerate(np.unique(y_set)):\n",
        "    plt.scatter(X_set[y_set == j, 0], X_set[y_set == j, 1],\n",
        "                c = ListedColormap(('red', 'green'))(i), label = j)\n",
        "plt.title('SVM (Test set)')\n",
        "plt.xlabel('Age')\n",
        "plt.ylabel('Estimated Salary')\n",
        "plt.legend()\n",
        "plt.show()"
      ],
      "metadata": {
        "colab": {
          "base_uri": "https://localhost:8080/",
          "height": 352
        },
        "id": "evS2WClg2UT5",
        "outputId": "a1552f61-a574-4506-9236-16637ce3ebe0"
      },
      "execution_count": null,
      "outputs": [
        {
          "output_type": "stream",
          "name": "stderr",
          "text": [
            "WARNING:matplotlib.axes._axes:*c* argument looks like a single numeric RGB or RGBA sequence, which should be avoided as value-mapping will have precedence in case its length matches with *x* & *y*.  Please use the *color* keyword-argument or provide a 2-D array with a single row if you intend to specify the same RGB or RGBA value for all points.\n",
            "WARNING:matplotlib.axes._axes:*c* argument looks like a single numeric RGB or RGBA sequence, which should be avoided as value-mapping will have precedence in case its length matches with *x* & *y*.  Please use the *color* keyword-argument or provide a 2-D array with a single row if you intend to specify the same RGB or RGBA value for all points.\n"
          ]
        },
        {
          "output_type": "display_data",
          "data": {
            "text/plain": [
              "<Figure size 432x288 with 1 Axes>"
            ],
            "image/png": "[encoded data removed]"
          },
          "metadata": {
            "needs_background": "light"
          }
        }
      ]
    },
    {
      "cell_type": "markdown",
      "source": [
        "**As we can observe from the figure above, the classifier with kernel as rbf made better predictions than linear. Thus this ia still a better model compared to Logistic regression and K-NN in making useful predictions for the dependant variable**"
      ],
      "metadata": {
        "id": "Lz2bHsI73hds"
      }
    }
  ]
}